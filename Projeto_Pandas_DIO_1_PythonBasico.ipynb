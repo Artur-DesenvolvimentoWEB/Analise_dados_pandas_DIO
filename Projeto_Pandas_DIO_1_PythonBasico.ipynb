{
  "nbformat": 4,
  "nbformat_minor": 0,
  "metadata": {
    "colab": {
      "name": "Projeto-Pandas-DIO-1-PythonBasico.ipynb",
      "provenance": [],
      "authorship_tag": "ABX9TyMUdcGT9BbXfOZjOxN8hnv6",
      "include_colab_link": true
    },
    "kernelspec": {
      "name": "python3",
      "display_name": "Python 3"
    },
    "language_info": {
      "name": "python"
    }
  },
  "cells": [
    {
      "cell_type": "markdown",
      "metadata": {
        "id": "view-in-github",
        "colab_type": "text"
      },
      "source": [
        "<a href=\"https://colab.research.google.com/github/Artur-DesenvolvimentoWEB/Analise_dados_pandas_DIO/blob/main/Projeto_Pandas_DIO_1_PythonBasico.ipynb\" target=\"_parent\"><img src=\"https://colab.research.google.com/assets/colab-badge.svg\" alt=\"Open In Colab\"/></a>"
      ]
    },
    {
      "cell_type": "markdown",
      "metadata": {
        "id": "z5MNIY5nnmwV"
      },
      "source": [
        "\n",
        "<h1> Primeiro comando em Python </h1>\n",
        "<h2> 'Hello Word' em Python </h2>\n",
        "\n",
        "---\n",
        "\n"
      ]
    },
    {
      "cell_type": "code",
      "metadata": {
        "colab": {
          "base_uri": "https://localhost:8080/",
          "height": 55
        },
        "id": "D2y3kPuRcEjm",
        "outputId": "cddbfcc9-8890-43e0-c63c-3041cdcc78cd"
      },
      "source": [
        "#formas de printar \"Olá mundo\" em Python\n",
        "print(\"Olá Mundo\")\n",
        "'Olá mundo'"
      ],
      "execution_count": null,
      "outputs": [
        {
          "output_type": "stream",
          "text": [
            "Olá Mundo\n"
          ],
          "name": "stdout"
        },
        {
          "output_type": "execute_result",
          "data": {
            "application/vnd.google.colaboratory.intrinsic+json": {
              "type": "string"
            },
            "text/plain": [
              "'Olá mundo'"
            ]
          },
          "metadata": {
            "tags": []
          },
          "execution_count": 58
        }
      ]
    },
    {
      "cell_type": "markdown",
      "metadata": {
        "id": "4ZZSkuQJn4uu"
      },
      "source": [
        "<h1>Matematica básica em Python</h1> <h2>Soma/Subtração/Multiplicação/Divisão<h2>"
      ]
    },
    {
      "cell_type": "code",
      "metadata": {
        "colab": {
          "base_uri": "https://localhost:8080/"
        },
        "id": "LAKf-_e3iI9R",
        "outputId": "d0fb1c8d-895a-45ff-efb4-7f7801fb62f9"
      },
      "source": [
        "#calculos basicos em python\n",
        "print(\"Digite 2 numeros a serem operados: \")\n",
        "x = float(input(\"Digite o primeiro numero: \"))\n",
        "y = float(input(\"Digite o segundo numero: \"))\n",
        "\n",
        "soma = x + y\n",
        "subtracao = x - y\n",
        "multiplicacao = x * y\n",
        "divisao = x / y\n",
        "\n",
        "print(\"Soma: {}, Subtração: {}, Multiplicação: {}, Divisão: {}\".format(soma,subtracao,multiplicacao, divisao))\n"
      ],
      "execution_count": null,
      "outputs": [
        {
          "output_type": "stream",
          "text": [
            "Digite 2 numeros a serem operados: \n",
            "Digite o primeiro numero: 10\n",
            "Digite o segundo numero: 10\n",
            "Soma: 20.0, Subtração: 0.0, Multiplicação: 100.0, Divisão: 1.0\n"
          ],
          "name": "stdout"
        }
      ]
    },
    {
      "cell_type": "markdown",
      "metadata": {
        "id": "wAt0c4tDoPEX"
      },
      "source": [
        "<h1>Manipulação de Strings - Básico</h1>"
      ]
    },
    {
      "cell_type": "code",
      "metadata": {
        "colab": {
          "base_uri": "https://localhost:8080/"
        },
        "id": "ivyzqSZIkmzu",
        "outputId": "ca9172cc-f7cf-4774-d30f-ba63fe02d84e"
      },
      "source": [
        "#Manipulando strings\n",
        "\n",
        "#criando string\n",
        "frase = \"Python é amor, python é vida!\"\n",
        "\n",
        "a = frase[0] #pegando primeiro caractere no indice da string\n",
        "b = frase[0:12] #pegando do caractere da posição 0 até a posição 12\n",
        "c = frase[10:] #pegando tudo a partir da 10ª posição no indice da string\n",
        "d = frase[:17] #pegando tudo até a 17ª posição no indice da string\n",
        "e = frase.count(\"amor\") #contando quantas vezes a palavra \"dados\" aparece na string\n",
        "f = frase.lower() #funcao que retorna o conteudo da frase em lower case\n",
        "g = frase.upper() #funcao que retorna o conteudo da frase em upper case\n",
        "h = frase.replace(\"Python\", \"Frase\") #funcão que altera onde tem 'x' por 'y' na string\n",
        "a, b, c , d, e, f, g, h"
      ],
      "execution_count": null,
      "outputs": [
        {
          "output_type": "execute_result",
          "data": {
            "text/plain": [
              "('P',\n",
              " 'Python é amo',\n",
              " 'mor, python é vida!',\n",
              " 'Python é amor, py',\n",
              " 1,\n",
              " 'python é amor, python é vida!',\n",
              " 'PYTHON É AMOR, PYTHON É VIDA!',\n",
              " 'Frase é amor, python é vida!')"
            ]
          },
          "metadata": {
            "tags": []
          },
          "execution_count": 60
        }
      ]
    },
    {
      "cell_type": "markdown",
      "metadata": {
        "id": "7zg-9jqKnlcg"
      },
      "source": [
        "<h1>Estrutura de dados em python</h1>"
      ]
    },
    {
      "cell_type": "markdown",
      "metadata": {
        "id": "ioX-n0IFoh1V"
      },
      "source": [
        "<h2> LISTAS </**h2**>"
      ]
    },
    {
      "cell_type": "code",
      "metadata": {
        "colab": {
          "base_uri": "https://localhost:8080/"
        },
        "id": "gpdiIewWodBS",
        "outputId": "626ea145-7ffb-4db7-9247-7e305db48292"
      },
      "source": [
        "#Declarando listas\n",
        "animais = [1,2,3]\n",
        "animais"
      ],
      "execution_count": null,
      "outputs": [
        {
          "output_type": "execute_result",
          "data": {
            "text/plain": [
              "[1, 2, 3]"
            ]
          },
          "metadata": {
            "tags": []
          },
          "execution_count": 61
        }
      ]
    },
    {
      "cell_type": "code",
      "metadata": {
        "colab": {
          "base_uri": "https://localhost:8080/"
        },
        "id": "EQfXso-eo4hE",
        "outputId": "cdaaf51b-807c-44d4-c72f-50ccf2a204d4"
      },
      "source": [
        "#Uma lista suporta diferentes tipos de dados como strings, inteiros, floats...\n",
        "animais = [\"cachorro\", \"gato\",\"gato\", \"papagaio\",12345,10.5]\n",
        "animais"
      ],
      "execution_count": null,
      "outputs": [
        {
          "output_type": "execute_result",
          "data": {
            "text/plain": [
              "['cachorro', 'gato', 'gato', 'papagaio', 12345, 10.5]"
            ]
          },
          "metadata": {
            "tags": []
          },
          "execution_count": 62
        }
      ]
    },
    {
      "cell_type": "code",
      "metadata": {
        "id": "GwBPxoiGplca"
      },
      "source": [
        "#Imprimindo elementos da lista por indice\n",
        "animais[0] #imprime valor no indice informado entre []\n",
        "animais[3-1] #imprime da posição 3 no indice (0,1,2,3) menos 1 posição (0,1,2)\n",
        "animais [0] = \"papagaio\" #altera o valor na posição 0 para \"papagaio\""
      ],
      "execution_count": null,
      "outputs": []
    },
    {
      "cell_type": "code",
      "metadata": {
        "colab": {
          "base_uri": "https://localhost:8080/"
        },
        "id": "RVbnLGbSGZzT",
        "outputId": "360f7ab9-1ef0-4a13-cfc7-a474966515bb"
      },
      "source": [
        "animais.remove(\"gato\") #remove toda ocorrencia onde houver a palavra \"gato\"\n",
        "animais.append(\"leão\") #adiciona no final da lista somente 1 valor\n",
        "animais.extend([\"cobra\", \"saci\", \"cascavel\"])#extende a lista com 1 ou mais valores\n",
        "contador = animais.count(\"papagaio\")# conta quantas ocorrencias na lista\n",
        "animais, contador"
      ],
      "execution_count": null,
      "outputs": [
        {
          "output_type": "execute_result",
          "data": {
            "text/plain": [
              "(['papagaio',\n",
              "  'gato',\n",
              "  'papagaio',\n",
              "  12345,\n",
              "  10.5,\n",
              "  'leão',\n",
              "  'cobra',\n",
              "  'saci',\n",
              "  'cascavel'],\n",
              " 2)"
            ]
          },
          "metadata": {
            "tags": []
          },
          "execution_count": 64
        }
      ]
    },
    {
      "cell_type": "code",
      "metadata": {
        "colab": {
          "base_uri": "https://localhost:8080/"
        },
        "id": "hGkFy6shHMsP",
        "outputId": "9041a442-1473-4ab5-b6e1-53b8c24cfc19"
      },
      "source": [
        "a = \"gato\" in animais  #boolean - existe gato em lista 'animais'? TRUE OR FALSE\n",
        "b = \"leão\" not in animais #boolean - não existe leão em lista 'animais'? TRUE OR FALSE\n",
        "a, b\n"
      ],
      "execution_count": null,
      "outputs": [
        {
          "output_type": "execute_result",
          "data": {
            "text/plain": [
              "(True, False)"
            ]
          },
          "metadata": {
            "tags": []
          },
          "execution_count": 65
        }
      ]
    },
    {
      "cell_type": "code",
      "metadata": {
        "colab": {
          "base_uri": "https://localhost:8080/"
        },
        "id": "wI7MbAVoHsdn",
        "outputId": "a4c4c116-356b-430e-b326-4389d8c6d7cb"
      },
      "source": [
        "lista = [10,20,30,500,100,800,10000]\n",
        "a = max(lista) #pega o valor maximo da lista\n",
        "b = min(lista) #pega o valor minimo da lista\n",
        "print(a, b)\n",
        "lista.sort()#ordena a lista de forma crescente\n",
        "print(lista)\n",
        "lista.sort(reverse=True)#ordena a lista de forma decrescente\n",
        "print(lista)\n",
        "print(type(lista))#qual tipo de dado a variavel \"lista\" é?\n",
        "\n",
        "\n"
      ],
      "execution_count": null,
      "outputs": [
        {
          "output_type": "stream",
          "text": [
            "10000 10\n",
            "[10, 20, 30, 100, 500, 800, 10000]\n",
            "[10000, 800, 500, 100, 30, 20, 10]\n",
            "<class 'list'>\n"
          ],
          "name": "stdout"
        }
      ]
    },
    {
      "cell_type": "markdown",
      "metadata": {
        "id": "rBfm4IXQJUa5"
      },
      "source": [
        "## TUPLAS"
      ]
    },
    {
      "cell_type": "code",
      "metadata": {
        "colab": {
          "base_uri": "https://localhost:8080/"
        },
        "id": "Ab_CionCJrRH",
        "outputId": "d5ad1acf-7884-4111-b8a8-a9d079d7aa8b"
      },
      "source": [
        "#Tuplas são declaradas por parênteses. Tuplas são IMUTAVEIS\n",
        "tupla = (\"Banana\", \"Laranja\", \"Maça\", 14, 7.7)\n",
        "a = tupla[0]\n",
        "b = tupla.count(\"Maça\")\n",
        "c = tupla [0:2]\n",
        "\n",
        "print(a)\n",
        "print(b)\n",
        "print(c)\n",
        "print(type(tupla))#qual tipo de dado a variavel \"tupla\" é?"
      ],
      "execution_count": null,
      "outputs": [
        {
          "output_type": "stream",
          "text": [
            "Banana\n",
            "1\n",
            "('Banana', 'Laranja')\n",
            "<class 'tuple'>\n"
          ],
          "name": "stdout"
        }
      ]
    },
    {
      "cell_type": "markdown",
      "metadata": {
        "id": "tR2SuGECK_10"
      },
      "source": [
        "##DICIONÁRIOS"
      ]
    },
    {
      "cell_type": "code",
      "metadata": {
        "colab": {
          "base_uri": "https://localhost:8080/"
        },
        "id": "QF5rOLkZLB8U",
        "outputId": "f56abc20-c12d-4ef0-a872-7156f4ff3ca6"
      },
      "source": [
        "#Para criar um dicionario utilizamos {}. Composto por chave:valor\n",
        "dicionario = {\"Maça\":1.99,\"Banana\":4.50,\"Laranja\":4.20, \"Uva\":7.99}\n",
        "print(dicionario)\n",
        "print(type(dicionario))#qual tipo de dado a variavel \"dicionario\" é?"
      ],
      "execution_count": null,
      "outputs": [
        {
          "output_type": "stream",
          "text": [
            "{'Maça': 1.99, 'Banana': 4.5, 'Laranja': 4.2, 'Uva': 7.99}\n",
            "<class 'dict'>\n"
          ],
          "name": "stdout"
        }
      ]
    },
    {
      "cell_type": "code",
      "metadata": {
        "colab": {
          "base_uri": "https://localhost:8080/"
        },
        "id": "H37ntfXtLshU",
        "outputId": "86a162e5-9e96-49e4-c0f1-a120aced1fc9"
      },
      "source": [
        "#Acessamos o valor de um dicionario atraves da chave(somente assim)\n",
        "dicionario['Maça']\n",
        "print(dicionario)\n",
        "#Atualizando valor de um dicionario\n",
        "dicionario[\"Maça\"] = 25\n",
        "print(dicionario)"
      ],
      "execution_count": null,
      "outputs": [
        {
          "output_type": "stream",
          "text": [
            "{'Maça': 1.99, 'Banana': 4.5, 'Laranja': 4.2, 'Uva': 7.99}\n",
            "{'Maça': 25, 'Banana': 4.5, 'Laranja': 4.2, 'Uva': 7.99}\n"
          ],
          "name": "stdout"
        }
      ]
    },
    {
      "cell_type": "code",
      "metadata": {
        "colab": {
          "base_uri": "https://localhost:8080/"
        },
        "id": "HsAkQ6uSNgDE",
        "outputId": "2323cf7f-8d19-4764-b3a8-bdd21ec31387"
      },
      "source": [
        "#Retornando todas as chaves de um dicionario\n",
        "a = dicionario.keys()\n",
        "#Retornando todos os valores de um dicionario\n",
        "b = dicionario.values()\n",
        "print(\"Chaves: {}.\\nValores: {}\".format(a, b))"
      ],
      "execution_count": null,
      "outputs": [
        {
          "output_type": "stream",
          "text": [
            "Chaves: dict_keys(['Maça', 'Banana', 'Laranja', 'Uva']).\n",
            "Valores: dict_values([25, 4.5, 4.2, 7.99])\n"
          ],
          "name": "stdout"
        }
      ]
    },
    {
      "cell_type": "code",
      "metadata": {
        "colab": {
          "base_uri": "https://localhost:8080/"
        },
        "id": "O7le6TXyNr4O",
        "outputId": "2d5738d6-8eaf-41f7-da98-f5fa53933454"
      },
      "source": [
        "#Verificando se existe uma chave no dicionario, caso não, insere no dicionario\n",
        "dicionario.setdefault(\"Limão\", 22)\n",
        "print(dicionario)"
      ],
      "execution_count": null,
      "outputs": [
        {
          "output_type": "stream",
          "text": [
            "{'Maça': 25, 'Banana': 4.5, 'Laranja': 4.2, 'Uva': 7.99, 'Limão': 22}\n"
          ],
          "name": "stdout"
        }
      ]
    }
  ]
}